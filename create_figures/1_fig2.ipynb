{
 "cells": [
  {
   "cell_type": "code",
   "execution_count": 2,
   "metadata": {
    "collapsed": true
   },
   "outputs": [],
   "source": [
    "import numpy as np\n",
    "import pandas as pd\n",
    "import matplotlib.pyplot as plt\n",
    "import scipy.stats as stats\n",
    "\n",
    "import src.utils as utils\n",
    "\n",
    "\n",
    "utils.configure_pd(pd)\n",
    "utils.configure_plt(plt)\n",
    "\n",
    "\n",
    "def draw_q(x_curr, y_curr, prop_sd, size):\n",
    "    qx_draws = stats.norm.rvs(loc=x_curr, scale=prop_sd, size=size)\n",
    "    qy_draws = []\n",
    "    for xp in qx_draws:\n",
    "        q_x_xp = stats.norm.pdf(xp, loc=x_curr, scale=prop_sd)\n",
    "        q_y_xp = stats.norm.pdf(xp, loc=y_curr, scale=prop_sd)\n",
    "        u = stats.uniform.rvs()\n",
    "\n",
    "        if u*q_x_xp <= q_y_xp:\n",
    "            yp = xp\n",
    "        else:\n",
    "            accept = False\n",
    "            while not accept:\n",
    "                yp = stats.norm.rvs(loc=y_curr, scale=prop_sd)\n",
    "                q_x_yp = stats.norm.pdf(yp, loc=x_curr, scale=prop_sd)\n",
    "                q_y_yp = stats.norm.pdf(yp, loc=y_curr, scale=prop_sd)\n",
    "                u = stats.uniform.rvs()\n",
    "                if u*q_y_yp > q_x_yp:\n",
    "                    accept = True\n",
    "        qy_draws.append(yp)\n",
    "\n",
    "    qy_draws = np.array(qy_draws)\n",
    "    return qx_draws, qy_draws\n",
    "\n",
    "def log_pi(z):\n",
    "    return stats.norm.logpdf(z)\n",
    "\n",
    "def log_acc_ratio(x_curr, x_prop):\n",
    "    return min(0, log_pi(x_prop) - log_pi(x_curr))"
   ]
  },
  {
   "cell_type": "code",
   "execution_count": 3,
   "outputs": [],
   "source": [
    "# Draw data for scatter plot\n",
    "# size = 100000 in paper. This takes O(1 min) to run\n",
    "\n",
    "x_curr, y_curr, prop_sd, size = .25, 4., np.sqrt(10), 1000\n",
    "x_prop_vec, y_prop_vec = draw_q(x_curr, y_curr, prop_sd, size)\n",
    "\n",
    "x_lar = [log_acc_ratio(x_curr, xp) for xp in x_prop_vec]\n",
    "y_lar = [log_acc_ratio(y_curr, yp) for yp in y_prop_vec]\n",
    "\n",
    "x_lar, y_lar = np.array(x_lar), np.array(y_lar)\n",
    "log_u = np.log(stats.uniform.rvs(size=size))\n",
    "\n",
    "Ax = 1*(log_u <= x_lar)\n",
    "Ay = 1*(log_u <= y_lar)\n",
    "\n",
    "x_next = Ax * x_prop_vec + (1 - Ax) * x_curr\n",
    "y_next = Ay * y_prop_vec + (1 - Ay) * y_curr\n"
   ],
   "metadata": {
    "collapsed": false,
    "pycharm": {
     "name": "#%%\n"
    }
   }
  },
  {
   "cell_type": "code",
   "execution_count": 6,
   "outputs": [
    {
     "data": {
      "text/plain": "<Figure size 720x576 with 3 Axes>",
      "image/png": "[encoded data removed]"
     },
     "metadata": {},
     "output_type": "display_data"
    }
   ],
   "source": [
    "# Figure 2: scatter plot with margin histograms\n",
    "\n",
    "x,y = x_next, y_next\n",
    "\n",
    "# definitions for the axes\n",
    "left, width = 0.1, 0.65\n",
    "bottom, height = 0.1, 0.65\n",
    "spacing = 0.005\n",
    "\n",
    "rect_scatter = [left, bottom, width, height]\n",
    "rect_histx = [left, bottom + height + spacing, width, 0.2]\n",
    "rect_histy = [left + width + spacing, bottom, 0.2, height]\n",
    "\n",
    "# start with a rectangular Figure\n",
    "plt.figure(figsize=(10, 8))\n",
    "#plt.figure()\n",
    "\n",
    "ax_scatter = plt.axes(rect_scatter)\n",
    "ax_scatter.tick_params(direction='in', top=True, right=True)\n",
    "\n",
    "ax_histx = plt.axes(rect_histx)\n",
    "ax_histx.tick_params(direction='in', labelbottom=False)\n",
    "ax_histy = plt.axes(rect_histy)\n",
    "ax_histy.tick_params(direction='in', labelleft=False)\n",
    "\n",
    "# the scatter plot:\n",
    "ax_scatter.scatter(x, y, c='.05', alpha=.25, s=10)\n",
    "\n",
    "ax_scatter.axvline(x_curr, zorder=0, c='.85')\n",
    "ax_scatter.axhline(y_curr, zorder=0, c='0.85')\n",
    "ax_scatter.plot([-20,20],[-20,20], zorder=0, c='.85')\n",
    "\n",
    "# now determine nice limits by hand:\n",
    "binwidth = 0.25\n",
    "lim = 7\n",
    "\n",
    "ax_scatter.set_xlim((-lim, lim))\n",
    "ax_scatter.set_ylim((-lim, lim))\n",
    "ax_scatter.grid(b=None)\n",
    "ax_scatter.set_xlabel('X')\n",
    "ax_scatter.set_ylabel('Y')\n",
    "\n",
    "ax_scatter.set_xticks(np.linspace(-5,5,3))\n",
    "ax_scatter.set_yticks(np.linspace(-5,5,3))\n",
    "\n",
    "bins = 50\n",
    "ax_histx.hist(x, bins=bins, color=utils.dark_blue, linewidth=2, histtype='step')\n",
    "ax_histx.hist(x, bins=bins, color=utils.dark_blue, alpha=.3)\n",
    "\n",
    "ax_histy.hist(y, bins=bins, color=utils.dark_red, orientation='horizontal',\n",
    "              linewidth=2, histtype='step')\n",
    "ax_histy.hist(y, bins=bins, color=utils.dark_red, orientation='horizontal',\n",
    "              alpha=.3)\n",
    "\n",
    "ax_histx.set_xlim(ax_scatter.get_xlim())\n",
    "ax_histx.set_ylim(ymax=5000)\n",
    "ax_histx.set_yticks([])\n",
    "ax_histx.grid(b=None)\n",
    "\n",
    "ax_histy.set_ylim(ax_scatter.get_ylim())\n",
    "ax_histy.set_xlim(xmax=5000)\n",
    "ax_histy.set_xticks([])\n",
    "ax_histy.grid(b=None)\n",
    "\n",
    "plt.show()"
   ],
   "metadata": {
    "collapsed": false,
    "pycharm": {
     "name": "#%%\n"
    }
   }
  }
 ],
 "metadata": {
  "kernelspec": {
   "display_name": "Python 3",
   "language": "python",
   "name": "python3"
  },
  "language_info": {
   "codemirror_mode": {
    "name": "ipython",
    "version": 2
   },
   "file_extension": ".py",
   "mimetype": "text/x-python",
   "name": "python",
   "nbconvert_exporter": "python",
   "pygments_lexer": "ipython2",
   "version": "2.7.6"
  }
 },
 "nbformat": 4,
 "nbformat_minor": 0
}